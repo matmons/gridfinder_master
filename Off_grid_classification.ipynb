{
 "cells": [
  {
   "cell_type": "code",
   "execution_count": 1,
   "id": "assured-martin",
   "metadata": {},
   "outputs": [],
   "source": [
    "%matplotlib inline\n",
    "import geopandas as gpd\n",
    "import pandas as pd\n",
    "import sys"
   ]
  },
  {
   "cell_type": "code",
   "execution_count": 2,
   "id": "sorted-boulder",
   "metadata": {},
   "outputs": [],
   "source": [
    "import rasterio\n",
    "import numpy as np\n",
    "from affine import Affine\n",
    "from pyproj import Proj, transform\n",
    "\n",
    "\n",
    "dataset = rasterio.open(\"Data/tif_files/africa.tif\")"
   ]
  },
  {
   "cell_type": "code",
   "execution_count": 5,
   "id": "ambient-warrant",
   "metadata": {},
   "outputs": [
    {
     "name": "stdout",
     "output_type": "stream",
     "text": [
      "-60.002083333 0.0041666667 0.0 75.002083333 0.0 -0.0041666667\n"
     ]
    }
   ],
   "source": [
    "import gdal\n",
    "import osr\n",
    "# open the dataset and get the geo transform matrix\n",
    "ds = gdal.Open('Data/tif_files/africa.tif')\n",
    "xoffset, px_w, rot1, yoffset, px_h, rot2 = ds.GetGeoTransform()\n",
    "print(xoffset, px_w, rot1, yoffset, px_h, rot2)"
   ]
  },
  {
   "cell_type": "code",
   "execution_count": 6,
   "id": "explicit-uruguay",
   "metadata": {},
   "outputs": [],
   "source": [
    "band1 = dataset.read(1)\n",
    "targets = (lambda x: x>0.1)(band1)\n",
    "targets = targets*1"
   ]
  },
  {
   "cell_type": "code",
   "execution_count": null,
   "id": "divine-former",
   "metadata": {},
   "outputs": [],
   "source": [
    "coordinates = []\n",
    "for i in range(dataset.height):\n",
    "    for j in range(dataset.width):\n",
    "        if targets[i][j]:\n",
    "            posX = px_w * j + xoffset\n",
    "            posY = rot2 * i + yoffset\n",
    "\n",
    "\n",
    "            # shift to the center of the pixel\n",
    "            posX += px_w / 2.0\n",
    "            posY -= px_w / 2.0\n",
    "\n",
    "            #get CRS from dataset \n",
    "            crs = osr.SpatialReference()\n",
    "            crs.ImportFromWkt(ds.GetProjectionRef())\n",
    "            # create lat/long crs with WGS84 datum\n",
    "            crsGeo = osr.SpatialReference()\n",
    "            crsGeo.ImportFromEPSG(4326) # 4326 is the EPSG id of lat/long crs \n",
    "            t = osr.CoordinateTransformation(crs, crsGeo)\n",
    "            lat, long, z = t.TransformPoint(posY, posX)\n",
    "            \n",
    "            coordinates.append((lat, long))\n",
    "    \n",
    "\n",
    "df = pd.DataFrame(coordinates, columns =['lat', 'long'])\n",
    "gdf = gpd.GeoDataFrame(\n",
    "    df, geometry=gpd.points_from_xy(df.long, df.lat), crs=\"EPSG:4326\")\n",
    "gdf['id'] = df.groupby(['lat','long']).ngroup()"
   ]
  },
  {
   "cell_type": "code",
   "execution_count": null,
   "id": "collected-encoding",
   "metadata": {},
   "outputs": [],
   "source": [
    "gdf.to_file(\"Data/lightpoints.geojson\", driver='GeoJSON')"
   ]
  },
  {
   "cell_type": "code",
   "execution_count": 3,
   "id": "piano-elizabeth",
   "metadata": {},
   "outputs": [],
   "source": [
    "import gridfinder as gf\n",
    "uganda_guess = \"Data/mv_lcfilter/UGA.tif\""
   ]
  },
  {
   "cell_type": "code",
   "execution_count": 3,
   "id": "brave-learning",
   "metadata": {},
   "outputs": [
    {
     "name": "stdout",
     "output_type": "stream",
     "text": [
      "<class 'numpy.ndarray'>\n"
     ]
    }
   ],
   "source": [
    "guess,affine = gf.threshold(uganda_guess, 0.5)\n",
    "print(type(guess))"
   ]
  },
  {
   "cell_type": "code",
   "execution_count": 4,
   "id": "distinct-feeling",
   "metadata": {},
   "outputs": [],
   "source": [
    "#guess_skel = gf.thin(guess)\n",
    "guess_gdf=gf.raster_to_lines(uganda_guess)"
   ]
  },
  {
   "cell_type": "code",
   "execution_count": 4,
   "id": "expensive-mercury",
   "metadata": {},
   "outputs": [
    {
     "ename": "NameError",
     "evalue": "name 'guess_gdf' is not defined",
     "output_type": "error",
     "traceback": [
      "\u001b[0;31m---------------------------------------------------------------------------\u001b[0m",
      "\u001b[0;31mNameError\u001b[0m                                 Traceback (most recent call last)",
      "\u001b[0;32m<ipython-input-4-b3d7130845c0>\u001b[0m in \u001b[0;36m<module>\u001b[0;34m\u001b[0m\n\u001b[0;32m----> 1\u001b[0;31m \u001b[0mguess_gdf\u001b[0m\u001b[0;34m.\u001b[0m\u001b[0mto_file\u001b[0m\u001b[0;34m(\u001b[0m\u001b[0;34m\"Uganda_grid.geojson\"\u001b[0m\u001b[0;34m,\u001b[0m \u001b[0mdriver\u001b[0m\u001b[0;34m=\u001b[0m\u001b[0;34m\"GeoJSON\"\u001b[0m\u001b[0;34m)\u001b[0m\u001b[0;34m\u001b[0m\u001b[0;34m\u001b[0m\u001b[0m\n\u001b[0m",
      "\u001b[0;31mNameError\u001b[0m: name 'guess_gdf' is not defined"
     ]
    }
   ],
   "source": [
    "guess_gdf.to_file(\"Uganda_grid.geojson\", driver=\"GeoJSON\")"
   ]
  },
  {
   "cell_type": "code",
   "execution_count": 5,
   "id": "asian-rally",
   "metadata": {},
   "outputs": [
    {
     "name": "stderr",
     "output_type": "stream",
     "text": [
      "/home/andre/.conda/envs/gridfinder/lib/python3.9/site-packages/geopandas/geodataframe.py:422: RuntimeWarning: Sequential read of iterator was interrupted. Resetting iterator. This can negatively impact the performance.\n",
      "  for feature in features_lst:\n",
      "<ipython-input-5-52ee7db2c2dd>:128: UserWarning: Geometry is in a geographic CRS. Results from 'buffer' are likely incorrect. Use 'GeoSeries.to_crs()' to re-project geometries to a projected CRS before this operation.\n",
      "\n",
      "  grid_buff = grid.buffer(buffer_amount)\n"
     ]
    }
   ],
   "source": [
    "uga_grid = \"Data/classification/ugandagrid.geojson\"\n",
    "from rasterio.features import rasterize\n",
    "\n",
    "\n",
    "def true_positives(guesses, truths):\n",
    "    \"\"\"Calculate true positives, used by accuracy().\n",
    "\n",
    "    Parameters\n",
    "    ----------\n",
    "    guesses : numpy array\n",
    "        Output from model.\n",
    "    truths : numpy array\n",
    "        Truth feature converted to array.\n",
    "\n",
    "    Returns\n",
    "    -------\n",
    "    tp : float\n",
    "        Ratio of true positives.\n",
    "    \"\"\"\n",
    "\n",
    "    yes_guesses = 0\n",
    "    yes_guesses_correct = 0\n",
    "    rows = guesses.shape[0]\n",
    "    cols = guesses.shape[1]\n",
    "\n",
    "    for x in range(0, rows):\n",
    "        for y in range(0, cols):\n",
    "            guess = guesses[x, y]\n",
    "            truth = truths[x, y]\n",
    "            if guess == 1:\n",
    "                yes_guesses += 1\n",
    "                if guess == truth:\n",
    "                    yes_guesses_correct += 1\n",
    "\n",
    "    tp = yes_guesses_correct / yes_guesses\n",
    "\n",
    "    return tp\n",
    "\n",
    "\n",
    "def false_negatives(guesses, truths):\n",
    "    \"\"\"Calculate false negatives, used by accuracy().\n",
    "\n",
    "    Parameters\n",
    "    ----------\n",
    "    guesses : numpy array\n",
    "        Output from model.\n",
    "    truths : numpy array\n",
    "        Truth feature converted to array.\n",
    "\n",
    "    Returns\n",
    "    -------\n",
    "    fn : float\n",
    "        Ratio of false negatives.\n",
    "    \"\"\"\n",
    "\n",
    "    actual_grid = 0\n",
    "    actual_grid_missed = 0\n",
    "\n",
    "    rows = guesses.shape[0]\n",
    "    cols = guesses.shape[1]\n",
    "\n",
    "    for x in range(0, rows):\n",
    "        for y in range(0, cols):\n",
    "            guess = guesses[x, y]\n",
    "            truth = truths[x, y]\n",
    "\n",
    "            if truth == 1:\n",
    "                actual_grid += 1\n",
    "                if guess != truth:\n",
    "                    found = False\n",
    "                    for i in range(-5, 6):\n",
    "                        for j in range(-5, 6):\n",
    "                            if i == 0 and j == 0:\n",
    "                                continue\n",
    "\n",
    "                            shift_x = x + i\n",
    "                            shift_y = y + j\n",
    "                            if shift_x < 0 or shift_y < 0:\n",
    "                                continue\n",
    "                            if shift_x >= rows or shift_y >= cols:\n",
    "                                continue\n",
    "\n",
    "                            other_guess = guesses[shift_x, shift_y]\n",
    "                            if other_guess == 1:\n",
    "                                found = True\n",
    "                    if not found:\n",
    "                        actual_grid_missed += 1\n",
    "\n",
    "    fn = actual_grid_missed / actual_grid\n",
    "\n",
    "    return fn\n",
    "\n",
    "\n",
    "def flip_arr_values(arr):\n",
    "    \"\"\"Simple helper function used by accuracy()\"\"\"\n",
    "\n",
    "    arr[arr == 1] = 2\n",
    "    arr[arr == 0] = 1\n",
    "    arr[arr == 2] = 0\n",
    "    return arr\n",
    "\n",
    "\n",
    "def accuracy(grid_in, guess_in, aoi_in, country, buffer_amount=0.01):\n",
    "    \"\"\"Measure accuracy against a specified grid 'truth' file.\n",
    "\n",
    "    Parameters\n",
    "    ----------\n",
    "    grid_in : str, Path\n",
    "        Path to vector truth file.\n",
    "    guess_in : str, Path\n",
    "        Path to guess output from guess2geom.\n",
    "    aoi_in : str, Path\n",
    "        Path to AOI feature.\n",
    "    buffer_amount : float, optional (default 0.01.)\n",
    "        Leeway in decimal degrees in calculating equivalence.\n",
    "        0.01 DD equals approximately 1 mile at the equator.\n",
    "    \"\"\"\n",
    "    if isinstance(aoi_in, gpd.GeoDataFrame):\n",
    "        aoi = aoi_in\n",
    "    else:\n",
    "        aoi = gpd.read_file(aoi_in)\n",
    "        aoi = aoi[aoi[\"ADM0_A3\"] == country]\n",
    "\n",
    "    grid_masked = gpd.read_file(grid_in, mask=aoi)\n",
    "    grid = gpd.sjoin(grid_masked, aoi, how=\"inner\", op=\"intersects\")\n",
    "    grid = grid[grid_masked.columns]\n",
    "\n",
    "    grid_buff = grid.buffer(buffer_amount)\n",
    "\n",
    "    guesses_reader = rasterio.open(guess_in)\n",
    "    guesses = guesses_reader.read(1)\n",
    "\n",
    "    grid_for_raster = [(row.geometry) for _, row in grid.iterrows()]\n",
    "    grid_raster = rasterize(\n",
    "        grid_for_raster,\n",
    "        out_shape=guesses_reader.shape,\n",
    "        fill=1,\n",
    "        default_value=0,\n",
    "        all_touched=True,\n",
    "        transform=guesses_reader.transform,\n",
    "    )\n",
    "    grid_buff_raster = rasterize(\n",
    "        grid_buff,\n",
    "        out_shape=guesses_reader.shape,\n",
    "        fill=1,\n",
    "        default_value=0,\n",
    "        all_touched=True,\n",
    "        transform=guesses_reader.transform,\n",
    "    )\n",
    "\n",
    "    grid_raster = flip_arr_values(grid_raster)\n",
    "    grid_buff_raster = flip_arr_values(grid_buff_raster)\n",
    "\n",
    "    tp = true_positives(guesses, grid_buff_raster)\n",
    "    fn = false_negatives(guesses, grid_raster)\n",
    "\n",
    "    return tp, fn\n",
    "\n",
    "\n",
    "tp, fn = accuracy(uga_grid, uganda_guess, \"admin_boundaries.gpkg\", \"UGA\")"
   ]
  },
  {
   "cell_type": "code",
   "execution_count": 6,
   "id": "effective-belfast",
   "metadata": {},
   "outputs": [
    {
     "name": "stdout",
     "output_type": "stream",
     "text": [
      "0.7049542993537871 0.4485729746229517\n"
     ]
    }
   ],
   "source": [
    "print(tp,fn)"
   ]
  },
  {
   "cell_type": "code",
   "execution_count": 2,
   "id": "agricultural-spice",
   "metadata": {},
   "outputs": [
    {
     "name": "stdout",
     "output_type": "stream",
     "text": [
      "Doing AGO\n"
     ]
    },
    {
     "name": "stderr",
     "output_type": "stream",
     "text": [
      "/home/andre/.conda/envs/gridfinder/lib/python3.9/site-packages/geopandas/geodataframe.py:422: RuntimeWarning: Sequential read of iterator was interrupted. Resetting iterator. This can negatively impact the performance.\n",
      "  for feature in features_lst:\n"
     ]
    },
    {
     "ename": "NameError",
     "evalue": "name 'gf' is not defined",
     "output_type": "error",
     "traceback": [
      "\u001b[0;31m---------------------------------------------------------------------------\u001b[0m",
      "\u001b[0;31mNameError\u001b[0m                                 Traceback (most recent call last)",
      "\u001b[0;32m<ipython-input-2-9e86d0eb4117>\u001b[0m in \u001b[0;36m<module>\u001b[0;34m\u001b[0m\n\u001b[1;32m     61\u001b[0m \u001b[0;34m\u001b[0m\u001b[0m\n\u001b[1;32m     62\u001b[0m         \u001b[0mgf\u001b[0m\u001b[0;34m.\u001b[0m\u001b[0msave_raster\u001b[0m\u001b[0;34m(\u001b[0m\u001b[0mc_out\u001b[0m\u001b[0;34m,\u001b[0m \u001b[0mnew_arr\u001b[0m\u001b[0;34m,\u001b[0m \u001b[0mdest_affine\u001b[0m\u001b[0;34m,\u001b[0m \u001b[0mdest_crs\u001b[0m\u001b[0;34m)\u001b[0m\u001b[0;34m\u001b[0m\u001b[0;34m\u001b[0m\u001b[0m\n\u001b[0;32m---> 63\u001b[0;31m \u001b[0mclip_all\u001b[0m\u001b[0;34m(\u001b[0m\u001b[0;34m\"Data/lccs.tif\"\u001b[0m\u001b[0;34m,\u001b[0m \u001b[0;34m\"admin_boundaries.gpkg\"\u001b[0m\u001b[0;34m,\u001b[0m \u001b[0;34m\"Data/targets_filt/\"\u001b[0m\u001b[0;34m,\u001b[0m \u001b[0;34m\"Data/LandCover_rs/\"\u001b[0m\u001b[0;34m)\u001b[0m\u001b[0;34m\u001b[0m\u001b[0;34m\u001b[0m\u001b[0m\n\u001b[0m",
      "\u001b[0;32m<ipython-input-2-9e86d0eb4117>\u001b[0m in \u001b[0;36mclip_all\u001b[0;34m(raster_in, admin_in, raster_shape_dir, dir_out, code)\u001b[0m\n\u001b[1;32m     48\u001b[0m         \u001b[0maoi\u001b[0m \u001b[0;34m=\u001b[0m \u001b[0madmin\u001b[0m\u001b[0;34m[\u001b[0m\u001b[0madmin\u001b[0m\u001b[0;34m[\u001b[0m\u001b[0mcode\u001b[0m\u001b[0;34m]\u001b[0m \u001b[0;34m==\u001b[0m \u001b[0mc\u001b[0m\u001b[0;34m]\u001b[0m\u001b[0;34m\u001b[0m\u001b[0;34m\u001b[0m\u001b[0m\n\u001b[1;32m     49\u001b[0m         \u001b[0;32mtry\u001b[0m\u001b[0;34m:\u001b[0m\u001b[0;34m\u001b[0m\u001b[0;34m\u001b[0m\u001b[0m\n\u001b[0;32m---> 50\u001b[0;31m             \u001b[0marr\u001b[0m\u001b[0;34m,\u001b[0m \u001b[0maff\u001b[0m\u001b[0;34m,\u001b[0m \u001b[0mcrs\u001b[0m \u001b[0;34m=\u001b[0m \u001b[0mgf\u001b[0m\u001b[0;34m.\u001b[0m\u001b[0mclip_raster\u001b[0m\u001b[0;34m(\u001b[0m\u001b[0mraster_in\u001b[0m\u001b[0;34m,\u001b[0m \u001b[0maoi\u001b[0m\u001b[0;34m)\u001b[0m\u001b[0;34m\u001b[0m\u001b[0;34m\u001b[0m\u001b[0m\n\u001b[0m\u001b[1;32m     51\u001b[0m         \u001b[0;32mexcept\u001b[0m \u001b[0mValueError\u001b[0m\u001b[0;34m:\u001b[0m\u001b[0;34m\u001b[0m\u001b[0;34m\u001b[0m\u001b[0m\n\u001b[1;32m     52\u001b[0m             \u001b[0mprint\u001b[0m\u001b[0;34m(\u001b[0m\u001b[0;34m\"No input data for this AOI - skipped\"\u001b[0m\u001b[0;34m)\u001b[0m\u001b[0;34m\u001b[0m\u001b[0;34m\u001b[0m\u001b[0m\n",
      "\u001b[0;31mNameError\u001b[0m: name 'gf' is not defined"
     ]
    }
   ],
   "source": [
    "import sys\n",
    "from pathlib import Path\n",
    "from argparse import ArgumentParser\n",
    "import numpy as np\n",
    "from rasterio.warp import reproject, Resampling\n",
    "\n",
    "import geopandas as gpd\n",
    "import rasterio\n",
    "\n",
    "from gridfinder import clip_raster, save_raster\n",
    "\n",
    "\n",
    "def make_same_as(curr_arr, curr_aff, curr_crs, dest_arr_like, dest_affine, dest_crs):\n",
    "    \"\"\"\n",
    "\n",
    "    \"\"\"\n",
    "\n",
    "    dest_arr = np.empty_like(dest_arr_like)\n",
    "\n",
    "    with rasterio.Env():\n",
    "        reproject(\n",
    "            source=curr_arr,\n",
    "            destination=dest_arr,\n",
    "            src_transform=curr_aff,\n",
    "            dst_transform=dest_affine,\n",
    "            src_crs=curr_crs,\n",
    "            dst_crs=dest_crs,\n",
    "            resampling=Resampling.max-Resampling.min,\n",
    "        )\n",
    "\n",
    "    return dest_arr\n",
    "\n",
    "\n",
    "\n",
    "def clip_all(raster_in, admin_in, raster_shape_dir, dir_out, code=\"ADM0_A3\"):\n",
    "    raster_in = Path(raster_in).expanduser()\n",
    "    admin_in = Path(admin_in).expanduser()\n",
    "    raster_shape_dir = Path(raster_shape_dir).expanduser()\n",
    "    dir_out = Path(dir_out).expanduser()\n",
    "\n",
    "    admin = gpd.read_file(admin_in)\n",
    "    countries = admin[code].tolist()\n",
    "\n",
    "    for c in countries:\n",
    "        print(f\"Doing {c}\")\n",
    "        c_out = dir_out / f\"{c}.tif\"\n",
    "\n",
    "        aoi = admin[admin[code] == c]\n",
    "        try:\n",
    "            arr, aff, crs = gf.clip_raster(raster_in, aoi)\n",
    "        except ValueError:\n",
    "            print(\"No input data for this AOI - skipped\")\n",
    "            continue\n",
    "        targets_in = raster_shape_dir / f\"{c}.tif\"\n",
    "        targets_rd = rasterio.open(targets_in)\n",
    "        dest_arr_like = targets_rd.read(1)\n",
    "        dest_affine = targets_rd.transform\n",
    "        dest_crs = targets_rd.crs\n",
    "\n",
    "        new_arr = make_same_as(arr, aff, crs, dest_arr_like, dest_affine, dest_crs)\n",
    "\n",
    "        gf.save_raster(c_out, new_arr, dest_affine, dest_crs)\n",
    "#clip_all(\"Data/lccs.tif\", \"admin_boundaries.gpkg\", \"Data/targets_filt/\", \"Data/LandCover_rs/\")"
   ]
  },
  {
   "cell_type": "code",
   "execution_count": 17,
   "id": "indie-sewing",
   "metadata": {},
   "outputs": [
    {
     "name": "stdout",
     "output_type": "stream",
     "text": [
      "[  0.  10.  11.  12.  20.  30.  40.  50.  60.  61.  62.  70.  90. 100.\n",
      " 110. 120. 122. 130. 160. 170. 180. 190. 200. 201. 210.]\n",
      "[  0.  10.  11.  12.  20.  30.  40.  50.  60.  61.  62.  70.  90. 100.\n",
      " 110. 120. 122. 130. 150. 160. 170. 180. 190. 200. 201. 210.]\n"
     ]
    }
   ],
   "source": [
    "uganda_cover = rasterio.open(\"Data/LandCover_rs/UGA.tif\")\n",
    "uganda_covers = uganda_cover.read(1)\n",
    "print(np.unique(uganda_covers))\n",
    "\n",
    "\n",
    "uganda_cover1 = rasterio.open(\"Data/LandCover/UGA.tif\")\n",
    "uganda_covers1 = uganda_cover1.read(1)\n",
    "print(np.unique(uganda_covers1))\n"
   ]
  },
  {
   "cell_type": "code",
   "execution_count": 18,
   "id": "fabulous-forty",
   "metadata": {},
   "outputs": [
    {
     "data": {
      "text/plain": [
       "(1392, 1335)"
      ]
     },
     "execution_count": 18,
     "metadata": {},
     "output_type": "execute_result"
    }
   ],
   "source": [
    "uganda_covers.shape"
   ]
  },
  {
   "cell_type": "code",
   "execution_count": 19,
   "id": "strange-assault",
   "metadata": {},
   "outputs": [
    {
     "name": "stdout",
     "output_type": "stream",
     "text": [
      "{0.0: 663825, 10.0: 398440, 30.0: 92765, 60.0: 14647, 130.0: 27529, 40.0: 33408, 62.0: 194523, 50.0: 60070, 120.0: 93689, 100.0: 8140, 122.0: 1869, 11.0: 53603, 180.0: 16258, 210.0: 187381, 110.0: 955, 190.0: 2222, 20.0: 7707, 170.0: 328, 61.0: 318, 160.0: 570, 12.0: 52, 200.0: 12, 201.0: 2, 90.0: 3, 70.0: 4}\n"
     ]
    }
   ],
   "source": [
    "collections = {}\n",
    "for i in range(uganda_covers.shape[0]):\n",
    "    for j in range(uganda_covers.shape[1]):\n",
    "        if uganda_covers[i,j] in collections.keys():\n",
    "            collections[uganda_covers[i,j]] +=1\n",
    "        else:\n",
    "            collections[uganda_covers[i,j]] =1\n",
    "print(collections)"
   ]
  },
  {
   "cell_type": "code",
   "execution_count": 20,
   "id": "proprietary-monaco",
   "metadata": {},
   "outputs": [],
   "source": [
    "uganda_truth = rasterio.open(\"Data/classification/Uganda_grid.tif\")\n",
    "uganda_truths = uganda_truth.read(1)"
   ]
  },
  {
   "cell_type": "code",
   "execution_count": 21,
   "id": "martial-fleet",
   "metadata": {},
   "outputs": [
    {
     "name": "stdout",
     "output_type": "stream",
     "text": [
      "{10.0: 39556, 40.0: 1209, 122.0: 45, 120.0: 1617, 130.0: 787, 60.0: 373, 62.0: 3411, 30.0: 4964, 50.0: 768, 190.0: 1940, 210.0: 137, 180.0: 318, 20.0: 582, 11.0: 6013, 61.0: 1, 100.0: 517, 170.0: 5, 160.0: 6, 0.0: 647, 12.0: 4, 110.0: 8}\n"
     ]
    }
   ],
   "source": [
    "collections2 = {}\n",
    "for i in range(uganda_covers.shape[0]):\n",
    "    for j in range(uganda_covers.shape[1]):\n",
    "        if uganda_truths[i,j]:\n",
    "            if uganda_covers[i,j] in collections2.keys():\n",
    "                collections2[uganda_covers[i,j]] +=1\n",
    "            else:\n",
    "                collections2[uganda_covers[i,j]] =1\n",
    "print(collections2)"
   ]
  },
  {
   "cell_type": "code",
   "execution_count": 35,
   "id": "rental-slovak",
   "metadata": {},
   "outputs": [
    {
     "name": "stdout",
     "output_type": "stream",
     "text": [
      "{10.0: 10.072808170694712, 40.0: 27.632754342431763, 122.0: 41.53333333333333, 120.0: 57.9400123685838, 130.0: 34.97966963151207, 60.0: 39.26809651474531, 62.0: 57.02814423922604, 30.0: 18.6875503626108, 50.0: 78.21614583333333, 190.0: 1.1453608247422682, 210.0: 1367.7445255474452, 180.0: 51.12578616352201, 20.0: 13.242268041237113, 11.0: 8.914518543156493, 61.0: 318.0, 100.0: 15.744680851063828, 170.0: 65.60000000000001, 160.0: 95.0, 0.0: 1026.0046367851623, 12.0: 13.0, 110.0: 119.37499999999999}\n"
     ]
    }
   ],
   "source": [
    "collections2 = {}\n",
    "for i in range(uganda_covers.shape[0]):\n",
    "    for j in range(uganda_covers.shape[1]):\n",
    "        if uganda_truths[i,j]:\n",
    "            if uganda_covers[i,j] in collections2.keys():\n",
    "                collections2[uganda_covers[i,j]] +=1\n",
    "            else:\n",
    "                collections2[uganda_covers[i,j]] =1\n",
    "for key in collections2.keys():\n",
    "    collections2[key]/=collections[key]\n",
    "for key in collections2.keys():\n",
    "    \n",
    "    collections2[key] = 1/collections2[key]\n",
    "print(collections2)\n"
   ]
  },
  {
   "cell_type": "code",
   "execution_count": 24,
   "id": "optical-egypt",
   "metadata": {},
   "outputs": [],
   "source": [
    "ken_cover = rasterio.open(\"Data/LandCover_rs/KEN.tif\")\n",
    "ken_covers = ken_cover.read(1)\n",
    "\n",
    "kenya_truth = rasterio.open(\"Data/classification/kenya_grid/kenya_grid.tif\")\n",
    "kenya_truths = kenya_truth.read(1)"
   ]
  },
  {
   "cell_type": "code",
   "execution_count": 34,
   "id": "victorian-jenny",
   "metadata": {},
   "outputs": [
    {
     "name": "stdout",
     "output_type": "stream",
     "text": [
      "[0.0, 10.0, 11.0, 12.0, 20.0, 30.0, 40.0, 50.0, 60.0, 61.0, 62.0, 90.0, 100.0, 110.0, 120.0, 122.0, 130.0, 150.0, 152.0, 153.0, 160.0, 170.0, 180.0, 190.0, 200.0, 201.0, 202.0, 210.0]\n"
     ]
    }
   ],
   "source": [
    "col = {}\n",
    "for i in range(ken_covers.shape[0]):\n",
    "    for j in range(ken_covers.shape[1]):\n",
    "        if ken_covers[i,j] in col.keys():\n",
    "            col[ken_covers[i,j]] +=1\n",
    "        else:\n",
    "            col[ken_covers[i,j]] =1\n",
    "print(sorted(col.keys()))"
   ]
  },
  {
   "cell_type": "code",
   "execution_count": 50,
   "id": "desperate-handle",
   "metadata": {},
   "outputs": [],
   "source": [
    "\"\"\"\n",
    "Need to initialize for 70,71,72, 80,81,82, 121, 140, 151, \n",
    "\"\"\"\n",
    "liste = [70,71,72, 80, 81, 82, 121, 140,151]"
   ]
  },
  {
   "cell_type": "code",
   "execution_count": 51,
   "id": "fluid-employee",
   "metadata": {},
   "outputs": [
    {
     "name": "stdout",
     "output_type": "stream",
     "text": [
      "{40.0: 12.37403834412016, 130.0: 99.25122139367446, 62.0: 60.428011753183156, 100.0: 46.45558157689305, 30.0: 8.240224526686328, 120.0: 65.35256087321578, 10.0: 6.27778461322131, 20.0: 7.258241758241758, 190.0: 1.1172140430351076, 11.0: 4.8442326024785505, 50.0: 23.865747126436784, 110.0: 294.09722222222223, 150.0: 260.3962264150943, 200.0: 1090.7872340425533, 153.0: 16.400000000000002, 180.0: 203.08379888268155, 152.0: 74.07142857142857, 60.0: 10.336581970066133, 170.0: 106.0, 122.0: 4.620689655172414, 210.0: 391.139175257732, 201.0: 1964.7272727272727, 90.0: 33.49625935162095, 12.0: 5.044642857142858, 61.0: 17.956521739130434, 160.0: 15.865546218487395, 0.0: 346586.6}\n"
     ]
    }
   ],
   "source": [
    "col2 = {}\n",
    "for i in range(ken_covers.shape[0]):\n",
    "    for j in range(ken_covers.shape[1]):\n",
    "        if kenya_truths[i,j]:\n",
    "            if ken_covers[i,j] in col2.keys():\n",
    "                col2[ken_covers[i,j]] +=1\n",
    "            else:\n",
    "                col2[ken_covers[i,j]] =1\n",
    "for key in col2.keys():\n",
    "    col2[key]/=col[key]\n",
    "for key in col2.keys():\n",
    "    col2[key]=1/col2[key]\n",
    "print(col2)"
   ]
  },
  {
   "cell_type": "code",
   "execution_count": 52,
   "id": "tropical-rolling",
   "metadata": {},
   "outputs": [
    {
     "name": "stdout",
     "output_type": "stream",
     "text": [
      "{40.0: 0.04851435495794723, 130.0: 0.16277548526669194, 62.0: 0.14243355343322026, 100.0: 0.07542733139219432, 30.0: 0.032654045512780956, 120.0: 0.1495111019969868, 10.0: 0.019827594486433186, 20.0: 0.024860003575470635, 190.0: 0.0027437180759351362, 11.0: 0.016684590091666538, 50.0: 0.12378990809463708, 110.0: 0.5013983078149369, 150.0: 0.5155840016273311, 200.0: 1.5225601022500612, 153.0: 0.219701259177932, 180.0: 0.30826800186833286, 152.0: 0.289636686858109, 60.0: 0.0601532594337645, 170.0: 0.2080912453045048, 122.0: 0.05596881188514511, 210.0: 2.132915499104576, 201.0: 2.582346063621683, 90.0: 0.24043308842343075, 12.0: 0.021881889296141575, 61.0: 0.40739866536634955, 160.0: 0.13444143108373643, 0.0: 10000}\n"
     ]
    }
   ],
   "source": [
    "for key, values in col2.items():\n",
    "    try:\n",
    "        col2[key] = values + collections2[key]\n",
    "    except:\n",
    "        collections2[key] = sum(collections2.values())/len(collections2.keys())\n",
    "        col2[key] = values + collections2[key]\n",
    "    \n",
    "\"\"\"\n",
    "Now to have this as around the same bias as roads, we want to have the total number a lot smaller\n",
    "\"\"\"\n",
    "col2[0]=0\n",
    "for i in liste:\n",
    "    col[i] = max(col2.values())\n",
    "fsums = sum(col2.values())\n",
    "for key, values in col2.items():\n",
    "    col2[key] = 10*col2[key]/fsums\n",
    "col2[0]=10000\n",
    "print(col2)"
   ]
  },
  {
   "cell_type": "code",
   "execution_count": 38,
   "id": "electoral-optimization",
   "metadata": {},
   "outputs": [
    {
     "name": "stdout",
     "output_type": "stream",
     "text": [
      "[[10000. 10000. 10000. ... 10000. 10000. 10000.]\n",
      " [10000. 10000. 10000. ... 10000. 10000. 10000.]\n",
      " [10000. 10000. 10000. ... 10000. 10000. 10000.]\n",
      " ...\n",
      " [10000. 10000. 10000. ... 10000. 10000. 10000.]\n",
      " [10000. 10000. 10000. ... 10000. 10000. 10000.]\n",
      " [10000. 10000. 10000. ... 10000. 10000. 10000.]]\n"
     ]
    }
   ],
   "source": [
    "def replace_with_dict2(ar, dic):\n",
    "    # Extract out keys and values\n",
    "    k = np.array(list(dic.keys()))\n",
    "    v = np.array(list(dic.values()))\n",
    "\n",
    "    # Get argsort indices\n",
    "    sidx = k.argsort()\n",
    "\n",
    "    ks = k[sidx]\n",
    "    vs = v[sidx]\n",
    "    return vs[np.searchsorted(ks,ar)]\n",
    "\n",
    "print(replace_with_dict2(uganda_covers, col2))"
   ]
  },
  {
   "cell_type": "code",
   "execution_count": 59,
   "id": "endless-speaker",
   "metadata": {},
   "outputs": [
    {
     "name": "stderr",
     "output_type": "stream",
     "text": [
      "/home/andre/.conda/envs/gridfinder/lib/python3.9/site-packages/geopandas/geodataframe.py:422: RuntimeWarning: Sequential read of iterator was interrupted. Resetting iterator. This can negatively impact the performance.\n",
      "  for feature in features_lst:\n"
     ]
    },
    {
     "name": "stdout",
     "output_type": "stream",
     "text": [
      "Doing AGO\n",
      "Doing MAR\n",
      "Doing BWA\n",
      "Doing SAU\n",
      "Doing CPV\n",
      "Doing EGY\n",
      "Doing LBR\n",
      "Doing MWI\n",
      "Doing LBY\n",
      "Doing CAF\n",
      "Doing TUN\n",
      "Doing MOZ\n",
      "Doing GIB\n",
      "Doing CIV\n",
      "Doing NAM\n",
      "Doing COG\n",
      "Doing RWA\n",
      "Doing COD\n",
      "Doing COM\n",
      "Doing JOR\n",
      "Doing ZAF\n",
      "Doing BDI\n",
      "Doing GIN\n",
      "Doing GAB\n",
      "Doing BFA\n",
      "Doing SAH\n",
      "Doing MLI\n",
      "Doing BEN\n",
      "Doing UGA\n",
      "Doing MDG\n",
      "Doing TCD\n",
      "Doing PSX\n",
      "Doing ESP\n",
      "Doing GNQ\n",
      "Doing NGA\n",
      "Doing LSO\n",
      "Doing GHA\n",
      "Doing YEM\n",
      "Doing ISR\n",
      "Doing ZWE\n",
      "Doing ETH\n",
      "Doing DJI\n",
      "Doing DZA\n",
      "Doing GMB\n",
      "Doing MRT\n",
      "Doing CMR\n",
      "Doing SWZ\n",
      "Doing NER\n",
      "Doing SOL\n",
      "Doing SOM\n",
      "Doing SDN\n",
      "Doing GNB\n",
      "Doing SDS\n",
      "Doing SLE\n",
      "Doing ERI\n",
      "Doing KEN\n",
      "Doing TZA\n",
      "Doing TGO\n",
      "Doing STP\n",
      "Doing SEN\n",
      "Doing ZMB\n"
     ]
    }
   ],
   "source": [
    "import gridfinder as gf\n",
    "\n",
    "def make_new_costs(path_costs, path_lc, dir_out, admin_in,code=\"ADM0_A3\"):\n",
    "    \n",
    "    path_costs = Path(path_costs).expanduser()\n",
    "    admin_in = Path(admin_in).expanduser()\n",
    "    path_lc = Path(path_lc).expanduser()\n",
    "    dir_out = Path(dir_out).expanduser()\n",
    "    \n",
    "    admin = gpd.read_file(admin_in)\n",
    "    countries = admin[code].tolist()\n",
    "\n",
    "    for c in countries:\n",
    "        print(f\"Doing {c}\")\n",
    "        c_out = dir_out / f\"{c}.tif\"\n",
    "        try:\n",
    "\n",
    "            cost_in = path_costs / f\"{c}.tif\"\n",
    "            cost_rd = rasterio.open(cost_in)\n",
    "            dest_arr_like = cost_rd.read(1)\n",
    "            dest_affine = cost_rd.transform\n",
    "            dest_crs = cost_rd.crs\n",
    "\n",
    "            lcc_in = path_lc / f\"{c}.tif\"\n",
    "            lcc_rd = rasterio.open(lcc_in)\n",
    "            lcc_arr = cost_rd.read(1)\n",
    "            \n",
    "            lcc_arr = replace_with_dict2(lcc_arr, col2)\n",
    "\n",
    "            #new_arr = np.multiply(dest_arr_like, lcc_arr)\n",
    "\n",
    "            gf.save_raster(c_out, lcc_arr, dest_affine, dest_crs)\n",
    "        except:\n",
    "            pass\n",
    "        \n",
    "        \n",
    "make_new_costs(\"Data/costs\", \"Data/LandCover_rs\", \"Data/costs_lc2\", \"admin_boundaries.gpkg\")"
   ]
  },
  {
   "cell_type": "code",
   "execution_count": null,
   "id": "organic-instruction",
   "metadata": {},
   "outputs": [],
   "source": []
  }
 ],
 "metadata": {
  "kernelspec": {
   "display_name": "Python 3",
   "language": "python",
   "name": "python3"
  },
  "language_info": {
   "codemirror_mode": {
    "name": "ipython",
    "version": 3
   },
   "file_extension": ".py",
   "mimetype": "text/x-python",
   "name": "python",
   "nbconvert_exporter": "python",
   "pygments_lexer": "ipython3",
   "version": "3.9.2"
  }
 },
 "nbformat": 4,
 "nbformat_minor": 5
}
