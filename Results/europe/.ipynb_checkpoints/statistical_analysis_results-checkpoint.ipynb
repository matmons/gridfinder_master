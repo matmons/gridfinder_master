{
 "cells": [
  {
   "cell_type": "code",
   "execution_count": 4,
   "id": "forty-bruce",
   "metadata": {},
   "outputs": [],
   "source": [
    "import pandas as pd\n",
    "import os\n",
    "import numpy as np"
   ]
  },
  {
   "cell_type": "code",
   "execution_count": 5,
   "id": "occupied-associate",
   "metadata": {},
   "outputs": [
    {
     "data": {
      "text/plain": [
       "['urban_filtered',\n",
       " 'costs',\n",
       " 'base_10',\n",
       " 'base_04',\n",
       " 'base_03',\n",
       " 'pop1_lccs',\n",
       " 'base_02',\n",
       " 'base_05',\n",
       " 'lccs_filtered',\n",
       " 'pop1_lccs_buildings_r1_pa1_s5',\n",
       " 'slope_pop1_lccs',\n",
       " 'pop1_lccs_buildings',\n",
       " '.ipynb_checkpoints',\n",
       " 'base_09',\n",
       " 'base_07',\n",
       " 'base_06',\n",
       " 'base_01',\n",
       " 'base_08',\n",
       " 'costs_lines_only',\n",
       " 'pop10_lccs',\n",
       " 'statistical_analysis_results.ipynb']"
      ]
     },
     "execution_count": 5,
     "metadata": {},
     "output_type": "execute_result"
    }
   ],
   "source": [
    "os.listdir()"
   ]
  },
  {
   "cell_type": "code",
   "execution_count": 7,
   "id": "compound-content",
   "metadata": {},
   "outputs": [],
   "source": [
    "f1_master = pd.DataFrame()\n",
    "costs_dict = {}\n",
    "for config in os.listdir(\"costs\"):\n",
    "    temp = pd.read_csv(\"costs/\"+config+\"/results.csv\")\n",
    "    #f1_master[config] = temp.f1\n",
    "    costs_dict[config] = temp.f1.mean()"
   ]
  },
  {
   "cell_type": "code",
   "execution_count": 8,
   "id": "joined-imperial",
   "metadata": {},
   "outputs": [
    {
     "data": {
      "text/plain": [
       "{'pa5-s100': 0.4455708031040859,\n",
       " 'pa10-s10': 0.44381215680871283,\n",
       " 'pa100-s100': 0.44384074468758683,\n",
       " 'pa1-s5': 0.4458237221246804,\n",
       " 'pa5-s5': 0.4449904498056275,\n",
       " 'pa0-s5': 0.445805923589284,\n",
       " 'pa100-s10': 0.44082046645364636,\n",
       " 'pa10-s1': 0.44144420700186865,\n",
       " 'pa100-s5': 0.4406837582266388,\n",
       " 'pa10-s0': 0.43812674215062614,\n",
       " 'pa5-s0': 0.43888538588610976,\n",
       " 'pa1-s1': 0.4453213425662498,\n",
       " 'pa1-s0': 0.44133224467976334,\n",
       " 'pa5-s1': 0.4423137826611458,\n",
       " 'pa0-s10': 0.4455847525540644,\n",
       " 'pa1-s10': 0.445724604201545,\n",
       " 'pa1-s100': 0.44555866234077474,\n",
       " 'pa0-s0': 0.4429484028860762,\n",
       " 'pa0-s100': 0.4455248715561639,\n",
       " 'pa5-s10': 0.445564240822663,\n",
       " 'pa0-s1': 0.444778922641822,\n",
       " 'pa10-s100': 0.4456741465300646,\n",
       " 'pa10-s5': 0.4437006365937942,\n",
       " 'pa100-s0': 0.4373827057053683,\n",
       " 'pa100-s1': 0.4396062035319754}"
      ]
     },
     "execution_count": 8,
     "metadata": {},
     "output_type": "execute_result"
    }
   ],
   "source": [
    "costs_dict"
   ]
  },
  {
   "cell_type": "code",
   "execution_count": null,
   "id": "advance-topic",
   "metadata": {},
   "outputs": [],
   "source": []
  }
 ],
 "metadata": {
  "kernelspec": {
   "display_name": "Python 3",
   "language": "python",
   "name": "python3"
  },
  "language_info": {
   "codemirror_mode": {
    "name": "ipython",
    "version": 3
   },
   "file_extension": ".py",
   "mimetype": "text/x-python",
   "name": "python",
   "nbconvert_exporter": "python",
   "pygments_lexer": "ipython3",
   "version": "3.7.9"
  }
 },
 "nbformat": 4,
 "nbformat_minor": 5
}
