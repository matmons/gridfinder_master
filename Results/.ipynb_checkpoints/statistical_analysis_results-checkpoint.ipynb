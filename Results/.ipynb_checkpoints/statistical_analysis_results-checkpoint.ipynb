{
 "cells": [
  {
   "cell_type": "code",
   "execution_count": 1,
   "id": "signed-retail",
   "metadata": {},
   "outputs": [],
   "source": [
    "import pandas as pd\n",
    "import os\n",
    "import numpy as np"
   ]
  },
  {
   "cell_type": "code",
   "execution_count": 2,
   "id": "equivalent-albert",
   "metadata": {},
   "outputs": [
    {
     "data": {
      "text/plain": [
       "['base_test',\n",
       " 'costs',\n",
       " '.DS_Store',\n",
       " 'europe',\n",
       " '.ipynb_checkpoints',\n",
       " 'costs_lines_only',\n",
       " 'statistical_analysis_results.ipynb']"
      ]
     },
     "execution_count": 2,
     "metadata": {},
     "output_type": "execute_result"
    }
   ],
   "source": [
    "os.listdir()"
   ]
  },
  {
   "cell_type": "code",
   "execution_count": 7,
   "id": "limited-break",
   "metadata": {},
   "outputs": [],
   "source": [
    "f1_master = pd.DataFrame()\n",
    "\n",
    "for config in os.listdir(\"europe\"):\n",
    "    temp = pd.read_csv(\"europe/\"+config+\"/results.csv\")\n",
    "    f1_master[config] = temp.f1\n",
    "    "
   ]
  },
  {
   "cell_type": "code",
   "execution_count": null,
   "id": "opened-pizza",
   "metadata": {},
   "outputs": [],
   "source": [
    "maximum = max(mydict, key=mydict.get)  # Just use 'min' instead of 'max' for minimum.\n",
    "print(maximum, mydict[maximum])\n",
    "# D 87"
   ]
  }
 ],
 "metadata": {
  "kernelspec": {
   "display_name": "Python 3",
   "language": "python",
   "name": "python3"
  },
  "language_info": {
   "codemirror_mode": {
    "name": "ipython",
    "version": 3
   },
   "file_extension": ".py",
   "mimetype": "text/x-python",
   "name": "python",
   "nbconvert_exporter": "python",
   "pygments_lexer": "ipython3",
   "version": "3.7.9"
  }
 },
 "nbformat": 4,
 "nbformat_minor": 5
}
